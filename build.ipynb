{
 "cells": [
  {
   "cell_type": "code",
   "execution_count": 1,
   "metadata": {},
   "outputs": [],
   "source": [
    "import fitz  # PyMuPDF\n",
    "\n"
   ]
  },
  {
   "cell_type": "code",
   "execution_count": 3,
   "metadata": {},
   "outputs": [],
   "source": [
    "def merge_pdfs(output_path, *input_files):\n",
    "    # Create a new PDF document to hold the merged content\n",
    "    merged_pdf = fitz.open()\n",
    "\n",
    "    # Loop through the input files\n",
    "    for file in input_files:\n",
    "        # Open the current PDF\n",
    "        pdf = fitz.open(file)\n",
    "        # Insert the entire PDF into the merged document\n",
    "        merged_pdf.insert_pdf(pdf)\n",
    "        # Close the current PDF file\n",
    "        pdf.close()\n",
    "\n",
    "    # Save the merged PDF to the specified output path\n",
    "    merged_pdf.save(output_path)\n",
    "    merged_pdf.close()\n",
    "\n"
   ]
  },
  {
   "cell_type": "code",
   "execution_count": 6,
   "metadata": {},
   "outputs": [],
   "source": [
    "# Example usage\n",
    "fp=r'D:\\needed\\dns projects\\pydfapi\\testfolder'\n",
    "\n",
    "merge_pdfs(f\"{fp}\\ilovetest2.pdf\", r\"C:\\Users\\DELL\\Desktop\\pula_cover.pdf\", r\"c:\\Users\\DELL\\Desktop\\Jubres.pdf\",r\"C:\\Users\\DELL\\Desktop\\Irrihub.pdf\")\n"
   ]
  },
  {
   "cell_type": "code",
   "execution_count": null,
   "metadata": {},
   "outputs": [],
   "source": [
    "from fastapi import FastAPI, UploadFile, File\n",
    "from fastapi.responses import FileResponse\n",
    "import fitz\n",
    "import os\n",
    "from typing import List\n",
    "\n",
    "app = FastAPI()\n",
    "\n",
    "# Function to merge PDFs from uploaded files\n",
    "\n",
    "\n",
    "# FastAPI route to handle PDF merging\n",
    "@app.post(\"/merge_pdfs\")\n",
    "async def merge_pdfs_endpoint(files: List[UploadFile] = File(...)):\n",
    "    output_filename = \"merged_output.pdf\"\n",
    "    output_path = f\"./{output_filename}\"\n",
    "\n",
    "    # Call the merge_pdfs function\n",
    "    merge_pdfs(output_path, files)\n",
    "\n",
    "    # Return the merged PDF as a downloadable file\n",
    "    return FileResponse(path=output_path, filename=output_filename, media_type='application/pdf')\n",
    "\n",
    "# Run the server with Uvicorn (if running this script directly)\n",
    "# if __name__ == \"__main__\":\n",
    "#     import uvicorn\n",
    "#     uvicorn.run(app, host=\"0.0.0.0\", port=8000)\n"
   ]
  },
  {
   "cell_type": "code",
   "execution_count": null,
   "metadata": {},
   "outputs": [],
   "source": [
    "def merge_pdfs_api(output_path: str, input_files: List[UploadFile]):\n",
    "    # Create a new PDF document to hold the merged content\n",
    "    merged_pdf = fitz.open()\n",
    "\n",
    "    # Loop through the input files\n",
    "    for file in input_files:\n",
    "        # Read the content of each uploaded file\n",
    "        pdf = fitz.open(stream=file.file.read(), filetype='pdf')\n",
    "        # Insert the entire PDF into the merged document\n",
    "        merged_pdf.insert_pdf(pdf)\n",
    "        # Close the current PDF file\n",
    "        pdf.close()\n",
    "\n",
    "    # Save the merged PDF to the specified output path\n",
    "    merged_pdf.save(output_path)\n",
    "    merged_pdf.close()"
   ]
  },
  {
   "cell_type": "code",
   "execution_count": 8,
   "metadata": {},
   "outputs": [],
   "source": [
    "def split_pdf_by_range(input_path, ranges):\n",
    "    pdf_document = fitz.open(input_path)\n",
    "\n",
    "    for idx, (start, end) in enumerate(ranges):\n",
    "        new_pdf = fitz.open()\n",
    "        # Adjusting for zero-indexed page numbers\n",
    "        new_pdf.insert_pdf(pdf_document, from_page=start - 1, to_page=end - 1)\n",
    "        output_path = f\"split_{start}_{end}.pdf\"\n",
    "        new_pdf.save(output_path)\n",
    "        new_pdf.close()\n",
    "        print(f\"Saved: {output_path}\")\n",
    "\n",
    "    pdf_document.close()\n",
    "\n",
    "\n"
   ]
  },
  {
   "cell_type": "code",
   "execution_count": 9,
   "metadata": {},
   "outputs": [
    {
     "name": "stdout",
     "output_type": "stream",
     "text": [
      "Saved: split_1_2.pdf\n",
      "Saved: split_1_3.pdf\n",
      "Saved: split_2_4.pdf\n",
      "Saved: split_2_5.pdf\n"
     ]
    }
   ],
   "source": [
    "# Usage: Split pages 1-3 and 4-6\n",
    "split_pdf_by_range(r\"D:\\needed\\dns projects\\pydfapi\\testfolder\\ilovetest2.pdf\", [(1, 2), (1, 3),(2,4),(2,5)])"
   ]
  },
  {
   "cell_type": "code",
   "execution_count": null,
   "metadata": {},
   "outputs": [],
   "source": [
    "def merge_pdfs_api(files: List[UploadFile]):\n",
    "    # Create a new PDF document to hold the merged content\n",
    "    merged_pdf = fitz.open()\n",
    "\n",
    "    # Loop through the input files\n",
    "    for file in files:\n",
    "        # Read the content of each uploaded file\n",
    "        pdf = fitz.open(stream=file.file.read(), filetype='pdf')\n",
    "        # Insert the entire PDF into the merged document\n",
    "        merged_pdf.insert_pdf(pdf)\n",
    "        # Close the current PDF file\n",
    "        pdf.close()\n",
    "\n",
    "    # Save the merged PDF to a BytesIO object (in-memory)\n",
    "    pdf_bytes = io.BytesIO()\n",
    "    merged_pdf.save(pdf_bytes)\n",
    "    merged_pdf.close()\n",
    "\n",
    "    # Seek to the beginning of the in-memory PDF before returning it\n",
    "    pdf_bytes.seek(0)\n",
    "    return pdf_bytes"
   ]
  },
  {
   "cell_type": "code",
   "execution_count": null,
   "metadata": {},
   "outputs": [],
   "source": []
  },
  {
   "cell_type": "code",
   "execution_count": null,
   "metadata": {},
   "outputs": [],
   "source": []
  }
 ],
 "metadata": {
  "kernelspec": {
   "display_name": "pydfapi",
   "language": "python",
   "name": "python3"
  },
  "language_info": {
   "codemirror_mode": {
    "name": "ipython",
    "version": 3
   },
   "file_extension": ".py",
   "mimetype": "text/x-python",
   "name": "python",
   "nbconvert_exporter": "python",
   "pygments_lexer": "ipython3",
   "version": "3.10.15"
  }
 },
 "nbformat": 4,
 "nbformat_minor": 2
}
